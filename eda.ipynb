{
 "cells": [
  {
   "cell_type": "code",
   "execution_count": 76,
   "metadata": {},
   "outputs": [],
   "source": [
    "import get_stats\n",
    "import pandas as pd\n",
    "import numpy as np\n",
    "import matplotlib.pyplot as plt\n"
   ]
  },
  {
   "cell_type": "code",
   "execution_count": 34,
   "metadata": {},
   "outputs": [],
   "source": [
    "df = pd.read_csv(\"summary_stats.csv\")\n",
    "df.drop(columns=[\"Unnamed: 0\", \"Unnamed: 33_level_0\", \"Unnamed: 4_level_0\"], inplace = True)\n",
    "new_cols = [\"Player\", \"Nation\", \"Pos\", \"Age\", \"MP\", \"Starts\", \"Minutes\", \"90s\", \"Gls\", \"Ast\", \"G+A\", \"G-PK\", \"PK\", \"PKatt\", \"CrdY\", \"CrdR\", \"xG\", \"npxG\", \"xAG\", \"npxG+xAG\", \"PrgC\", \"PrgP\", \"PrgR\", \"90_Gls\", \"90_Ast\", \"90_G+A\", \"90_G-PK\", \"90_G+A-PK\", \"90_xG\", \"90_xAG\", \"90_xG+xAG\", \"90_npxG\", \"90_npxG+xAG\"]\n",
    "mapping = dict(zip(df.columns, new_cols))\n",
    "# print(dict(mapping))\n",
    "df.rename(columns=mapping, inplace=True)"
   ]
  },
  {
   "cell_type": "code",
   "execution_count": 38,
   "metadata": {},
   "outputs": [
    {
     "data": {
      "text/html": [
       "<div>\n",
       "<style scoped>\n",
       "    .dataframe tbody tr th:only-of-type {\n",
       "        vertical-align: middle;\n",
       "    }\n",
       "\n",
       "    .dataframe tbody tr th {\n",
       "        vertical-align: top;\n",
       "    }\n",
       "\n",
       "    .dataframe thead th {\n",
       "        text-align: right;\n",
       "    }\n",
       "</style>\n",
       "<table border=\"1\" class=\"dataframe\">\n",
       "  <thead>\n",
       "    <tr style=\"text-align: right;\">\n",
       "      <th></th>\n",
       "      <th>Player</th>\n",
       "      <th>Nation</th>\n",
       "      <th>Pos</th>\n",
       "      <th>Age</th>\n",
       "      <th>MP</th>\n",
       "      <th>Starts</th>\n",
       "      <th>Minutes</th>\n",
       "      <th>90s</th>\n",
       "      <th>Gls</th>\n",
       "      <th>Ast</th>\n",
       "      <th>...</th>\n",
       "      <th>90_Ast</th>\n",
       "      <th>90_G+A</th>\n",
       "      <th>90_G-PK</th>\n",
       "      <th>90_G+A-PK</th>\n",
       "      <th>90_xG</th>\n",
       "      <th>90_xAG</th>\n",
       "      <th>90_xG+xAG</th>\n",
       "      <th>90_npxG</th>\n",
       "      <th>90_npxG+xAG</th>\n",
       "      <th>Team</th>\n",
       "    </tr>\n",
       "  </thead>\n",
       "  <tbody>\n",
       "    <tr>\n",
       "      <th>1</th>\n",
       "      <td>William Saliba</td>\n",
       "      <td>fr FRA</td>\n",
       "      <td>DF</td>\n",
       "      <td>22-213</td>\n",
       "      <td>9.0</td>\n",
       "      <td>9</td>\n",
       "      <td>810.0</td>\n",
       "      <td>9.0</td>\n",
       "      <td>0.0</td>\n",
       "      <td>1.0</td>\n",
       "      <td>...</td>\n",
       "      <td>0.11</td>\n",
       "      <td>0.11</td>\n",
       "      <td>0.0</td>\n",
       "      <td>0.11</td>\n",
       "      <td>0.0</td>\n",
       "      <td>0.01</td>\n",
       "      <td>0.01</td>\n",
       "      <td>0.0</td>\n",
       "      <td>0.01</td>\n",
       "      <td>arsenal</td>\n",
       "    </tr>\n",
       "    <tr>\n",
       "      <th>2</th>\n",
       "      <td>Ben White</td>\n",
       "      <td>eng ENG</td>\n",
       "      <td>DF</td>\n",
       "      <td>26-015</td>\n",
       "      <td>9.0</td>\n",
       "      <td>9</td>\n",
       "      <td>810.0</td>\n",
       "      <td>9.0</td>\n",
       "      <td>1.0</td>\n",
       "      <td>0.0</td>\n",
       "      <td>...</td>\n",
       "      <td>0.0</td>\n",
       "      <td>0.11</td>\n",
       "      <td>0.11</td>\n",
       "      <td>0.11</td>\n",
       "      <td>0.05</td>\n",
       "      <td>0.1</td>\n",
       "      <td>0.14</td>\n",
       "      <td>0.05</td>\n",
       "      <td>0.14</td>\n",
       "      <td>arsenal</td>\n",
       "    </tr>\n",
       "    <tr>\n",
       "      <th>7</th>\n",
       "      <td>Gabriel Dos Santos</td>\n",
       "      <td>br BRA</td>\n",
       "      <td>DF</td>\n",
       "      <td>25-308</td>\n",
       "      <td>8.0</td>\n",
       "      <td>6</td>\n",
       "      <td>566.0</td>\n",
       "      <td>6.3</td>\n",
       "      <td>0.0</td>\n",
       "      <td>0.0</td>\n",
       "      <td>...</td>\n",
       "      <td>0.0</td>\n",
       "      <td>0.0</td>\n",
       "      <td>0.0</td>\n",
       "      <td>0.0</td>\n",
       "      <td>0.03</td>\n",
       "      <td>0.0</td>\n",
       "      <td>0.03</td>\n",
       "      <td>0.03</td>\n",
       "      <td>0.03</td>\n",
       "      <td>arsenal</td>\n",
       "    </tr>\n",
       "    <tr>\n",
       "      <th>9</th>\n",
       "      <td>Oleksandr Zinchenko</td>\n",
       "      <td>ua UKR</td>\n",
       "      <td>DF</td>\n",
       "      <td>26-312</td>\n",
       "      <td>8.0</td>\n",
       "      <td>6</td>\n",
       "      <td>468.0</td>\n",
       "      <td>5.2</td>\n",
       "      <td>0.0</td>\n",
       "      <td>0.0</td>\n",
       "      <td>...</td>\n",
       "      <td>0.0</td>\n",
       "      <td>0.0</td>\n",
       "      <td>0.0</td>\n",
       "      <td>0.0</td>\n",
       "      <td>0.05</td>\n",
       "      <td>0.06</td>\n",
       "      <td>0.12</td>\n",
       "      <td>0.05</td>\n",
       "      <td>0.12</td>\n",
       "      <td>arsenal</td>\n",
       "    </tr>\n",
       "    <tr>\n",
       "      <th>18</th>\n",
       "      <td>Takehiro Tomiyasu</td>\n",
       "      <td>jp JPN</td>\n",
       "      <td>DF</td>\n",
       "      <td>24-352</td>\n",
       "      <td>7.0</td>\n",
       "      <td>1</td>\n",
       "      <td>216.0</td>\n",
       "      <td>2.4</td>\n",
       "      <td>0.0</td>\n",
       "      <td>0.0</td>\n",
       "      <td>...</td>\n",
       "      <td>0.0</td>\n",
       "      <td>0.0</td>\n",
       "      <td>0.0</td>\n",
       "      <td>0.0</td>\n",
       "      <td>0.07</td>\n",
       "      <td>0.0</td>\n",
       "      <td>0.07</td>\n",
       "      <td>0.07</td>\n",
       "      <td>0.07</td>\n",
       "      <td>arsenal</td>\n",
       "    </tr>\n",
       "  </tbody>\n",
       "</table>\n",
       "<p>5 rows × 34 columns</p>\n",
       "</div>"
      ],
      "text/plain": [
       "                 Player   Nation Pos     Age   MP Starts Minutes  90s  Gls  \\\n",
       "1        William Saliba   fr FRA  DF  22-213  9.0      9   810.0  9.0  0.0   \n",
       "2             Ben White  eng ENG  DF  26-015  9.0      9   810.0  9.0  1.0   \n",
       "7    Gabriel Dos Santos   br BRA  DF  25-308  8.0      6   566.0  6.3  0.0   \n",
       "9   Oleksandr Zinchenko   ua UKR  DF  26-312  8.0      6   468.0  5.2  0.0   \n",
       "18    Takehiro Tomiyasu   jp JPN  DF  24-352  7.0      1   216.0  2.4  0.0   \n",
       "\n",
       "    Ast  ... 90_Ast 90_G+A 90_G-PK 90_G+A-PK 90_xG 90_xAG 90_xG+xAG 90_npxG  \\\n",
       "1   1.0  ...   0.11   0.11     0.0      0.11   0.0   0.01      0.01     0.0   \n",
       "2   0.0  ...    0.0   0.11    0.11      0.11  0.05    0.1      0.14    0.05   \n",
       "7   0.0  ...    0.0    0.0     0.0       0.0  0.03    0.0      0.03    0.03   \n",
       "9   0.0  ...    0.0    0.0     0.0       0.0  0.05   0.06      0.12    0.05   \n",
       "18  0.0  ...    0.0    0.0     0.0       0.0  0.07    0.0      0.07    0.07   \n",
       "\n",
       "   90_npxG+xAG     Team  \n",
       "1         0.01  arsenal  \n",
       "2         0.14  arsenal  \n",
       "7         0.03  arsenal  \n",
       "9         0.12  arsenal  \n",
       "18        0.07  arsenal  \n",
       "\n",
       "[5 rows x 34 columns]"
      ]
     },
     "execution_count": 38,
     "metadata": {},
     "output_type": "execute_result"
    }
   ],
   "source": [
    "defenders = df[df[\"Pos\"] == \"DF\"]\n",
    "defenders.head()"
   ]
  },
  {
   "cell_type": "markdown",
   "metadata": {},
   "source": [
    "# EDA Modelling Ideas"
   ]
  },
  {
   "cell_type": "markdown",
   "metadata": {},
   "source": [
    "- Get actual player positions from the official fpl api. May require an intense mapping of player names if not set accordingly.\n",
    "- Upload file of points rules so that we can calculate the per 90 expected points.\n",
    "- Compare the per 90 expected points to actual points.\n",
    "\n",
    "- For regression model we can look at correlations between form, xG points, xAG points, clean sheet points, minutes played"
   ]
  },
  {
   "cell_type": "code",
   "execution_count": 66,
   "metadata": {},
   "outputs": [],
   "source": [
    "import requests\n",
    "import json\n",
    "response = requests.get(\"https://fantasy.premierleague.com/api/bootstrap-static/\")\n",
    "data = json.loads(response.text)"
   ]
  },
  {
   "cell_type": "code",
   "execution_count": 131,
   "metadata": {},
   "outputs": [],
   "source": [
    "# Columns to keep for player stats\n",
    "cols = [\"code\", \"first_name\", \"second_name\", \"element_type\", \"web_name\", \"id\", \"team_code\", \"now_cost\", \"points_per_game\", \"selected_by_percent\", \"total_points\", \"transfers_in\", \"transfers_out\", \"minutes\", \"goals_scored\", \"assists\", \"clean_sheets\", \"goals_conceded\", \"own_goals\", \"penalties_saved\", \"penalties_missed\", \"yellow_cards\", \"red_cards\", \"saves\", \"bonus\", \"bps\", \"influence\", \"creativity\", \"threat\", \"ict_index\", \"starts\", \"expected_goals\", \"expected_assists\", \"expected_goal_involvements\", \"expected_goals_conceded\", \"expected_goals_per_90\", \"saves_per_90\", \"expected_assists_per_90\", \"expected_goal_involvements_per_90\", \"expected_goals_conceded_per_90\"]\n",
    "\n",
    "aggregated = pd.DataFrame()\n",
    "for player in data[\"elements\"]:\n",
    "\tdf = pd.DataFrame.from_dict(player, orient=\"index\")\n",
    "\tdf = df.T[cols]\n",
    "\taggregated = pd.concat([aggregated, df])\n",
    "aggregated.set_index(\"id\", inplace=True)\n",
    "# Change expected goals to integers\n",
    "aggregated[\"expected_goals\"] = aggregated[\"expected_goals\"].map(lambda x: float(x))\n"
   ]
  },
  {
   "cell_type": "code",
   "execution_count": 132,
   "metadata": {},
   "outputs": [],
   "source": [
    "# Note that 1 = GK, 2 = DEF, 3 = MID, 4 = FWD\n",
    "fwds = aggregated[aggregated[\"element_type\"]==4]"
   ]
  },
  {
   "cell_type": "code",
   "execution_count": 141,
   "metadata": {},
   "outputs": [
    {
     "data": {
      "text/plain": [
       "[<matplotlib.lines.Line2D at 0x7fa192232710>]"
      ]
     },
     "execution_count": 141,
     "metadata": {},
     "output_type": "execute_result"
    },
    {
     "data": {
      "image/png": "[encoded data removed]",
      "text/plain": [
       "<Figure size 1000x1000 with 1 Axes>"
      ]
     },
     "metadata": {},
     "output_type": "display_data"
    }
   ],
   "source": [
    "# Retain only players that have scored at least 2 goals\n",
    "plt.figure(figsize=(10,10))\n",
    "ax = plt.gca()\n",
    "fwds = fwds[fwds[\"goals_scored\"]>1]\n",
    "\n",
    "# fwds[\"expected_goals\"].values\n",
    "# print(fwds[\"web_name\"].values)\n",
    "fwds.plot(kind=\"scatter\", x=\"expected_goals\", y=\"goals_scored\", ax=ax)\n",
    "x = fwds[\"expected_goals\"].values; y = fwds[\"goals_scored\"].values\n",
    "txt = fwds[\"web_name\"].values\n",
    "for i in range(len(txt)):\n",
    "\tax.annotate(txt[i], (x[i], y[i]), fontsize=6)\n",
    "ax.plot(np.arange(10), np.arange(10), color=\"black\")\n"
   ]
  }
 ],
 "metadata": {
  "kernelspec": {
   "display_name": ".venv",
   "language": "python",
   "name": "python3"
  },
  "language_info": {
   "codemirror_mode": {
    "name": "ipython",
    "version": 3
   },
   "file_extension": ".py",
   "mimetype": "text/x-python",
   "name": "python",
   "nbconvert_exporter": "python",
   "pygments_lexer": "ipython3",
   "version": "3.10.6"
  }
 },
 "nbformat": 4,
 "nbformat_minor": 2
}
